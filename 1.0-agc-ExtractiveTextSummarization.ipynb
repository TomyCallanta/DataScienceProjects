{
 "cells": [
  {
   "cell_type": "code",
   "execution_count": 1,
   "metadata": {},
   "outputs": [],
   "source": [
    "import pandas as pd\n",
    "import numpy as np\n",
    "from lxml import etree\n",
    "from io import StringIO\n",
    "from sklearn.feature_extraction.text import TfidfVectorizer"
   ]
  },
  {
   "cell_type": "markdown",
   "metadata": {},
   "source": [
    "# Extractive Text Summarization\n",
    "This project aims to summarize administrative orders using the extractive text summarization method. This method involves selecting sentences to compose the summary for a document. Two methods were tested:\n",
    "1. getting top N sentence using heuristics\n",
    "2. getting a sentence from each of N topics (clusters) found in document"
   ]
  },
  {
   "cell_type": "markdown",
   "metadata": {},
   "source": [
    "## Get Document\n",
    "Given a file name, get the subject and body of document"
   ]
  },
  {
   "cell_type": "code",
   "execution_count": 2,
   "metadata": {},
   "outputs": [],
   "source": [
    "doc_parts = ['subject', 'body']"
   ]
  },
  {
   "cell_type": "code",
   "execution_count": 3,
   "metadata": {
    "scrolled": true
   },
   "outputs": [],
   "source": [
    "file_name = \"data/2017_AO0002.pdf.tiff.txt\"\n",
    "\n",
    "content = open(file_name, 'rb').read()\n",
    "AO = \"<root>\" + str(content).replace(\"<missing text>\", \"\").replace(\"<missingtext>\", \"\").replace(\"</missingtext>\", \"\").replace(\"&\", \"&amp;\") + \"</root>\"\n",
    "AO = etree.parse(StringIO(AO), parser=etree.XMLParser(recover=True)).getroot()\n",
    "etree.strip_tags(AO, 'b')\n",
    "\n",
    "file = {}\n",
    "for part in doc_parts:\n",
    "    if len(AO.xpath('./' + part)) > 0:\n",
    "        part_content = AO.xpath('./' + part)[0].text\n",
    "        file[part] = part_content.encode().decode('unicode_escape').encode('ascii','ignore').decode().strip('\\n').replace('\\n', ' ').replace('\\r', '').replace('\\t', '')"
   ]
  },
  {
   "cell_type": "markdown",
   "metadata": {},
   "source": [
    "# Getting top N sentences using heuristics\n",
    "Selecting N sentences based on a scoring function based on tfidf, cosine similarity to subject and sentence position\n",
    "http://research.nii.ac.jp/ntcir/workshop/OnlineProceedings3/NTCIR3-TSC-SekiY.pdf"
   ]
  },
  {
   "cell_type": "markdown",
   "metadata": {},
   "source": [
    "## Create Dataframe of Sentences\n",
    "Using spaCy, get sentences"
   ]
  },
  {
   "cell_type": "code",
   "execution_count": 4,
   "metadata": {},
   "outputs": [],
   "source": [
    "import spacy\n",
    "import en_core_web_sm\n",
    "nlp = en_core_web_sm.load()"
   ]
  },
  {
   "cell_type": "code",
   "execution_count": 5,
   "metadata": {},
   "outputs": [],
   "source": [
    "doc = nlp(file['body'])\n",
    "sentences = [sent.string.strip() for sent in doc.sents]"
   ]
  },
  {
   "cell_type": "markdown",
   "metadata": {},
   "source": [
    "The number of sentences"
   ]
  },
  {
   "cell_type": "code",
   "execution_count": 6,
   "metadata": {
    "scrolled": true
   },
   "outputs": [
    {
     "data": {
      "text/plain": [
       "173"
      ]
     },
     "execution_count": 6,
     "metadata": {},
     "output_type": "execute_result"
    }
   ],
   "source": [
    "len(sentences)"
   ]
  },
  {
   "cell_type": "markdown",
   "metadata": {},
   "source": [
    "## TF-IDF Vectorizer\n",
    "Treat each sentence as a document. TF refers to frequency of a term in sentence. DF refers to frequency of word across whole document."
   ]
  },
  {
   "cell_type": "markdown",
   "metadata": {},
   "source": [
    "### Tokenizer"
   ]
  },
  {
   "cell_type": "code",
   "execution_count": 7,
   "metadata": {},
   "outputs": [],
   "source": [
    "from string import punctuation\n",
    "\n",
    "def spacy_tokenize(document):\n",
    "    doc = nlp(document)\n",
    "    lemmatized = [token.lemma_.strip(punctuation) for token in doc if not token.is_punct and not token.is_space and not token.is_stop]\n",
    "    return lemmatized"
   ]
  },
  {
   "cell_type": "markdown",
   "metadata": {},
   "source": [
    "### Vectorizer"
   ]
  },
  {
   "cell_type": "code",
   "execution_count": 8,
   "metadata": {},
   "outputs": [],
   "source": [
    "vect = TfidfVectorizer(tokenizer=spacy_tokenize, stop_words='english', ngram_range=(1,3), strip_accents='ascii')"
   ]
  },
  {
   "cell_type": "code",
   "execution_count": 9,
   "metadata": {},
   "outputs": [],
   "source": [
    "vect = vect.fit(sentences)"
   ]
  },
  {
   "cell_type": "code",
   "execution_count": 10,
   "metadata": {},
   "outputs": [],
   "source": [
    "dtm = vect.transform(sentences)"
   ]
  },
  {
   "cell_type": "code",
   "execution_count": 11,
   "metadata": {},
   "outputs": [],
   "source": [
    "subj_dtm = vect.transform([file['subject']])"
   ]
  },
  {
   "cell_type": "markdown",
   "metadata": {},
   "source": [
    "## Top N Sentences"
   ]
  },
  {
   "cell_type": "markdown",
   "metadata": {},
   "source": [
    "Start with 4 sentences"
   ]
  },
  {
   "cell_type": "code",
   "execution_count": 12,
   "metadata": {},
   "outputs": [],
   "source": [
    "num_sentences = 4"
   ]
  },
  {
   "cell_type": "markdown",
   "metadata": {},
   "source": [
    "Features used TF-IDF score, Similarity to Subject, sentence position,  "
   ]
  },
  {
   "cell_type": "code",
   "execution_count": 13,
   "metadata": {},
   "outputs": [],
   "source": [
    "from sklearn.metrics.pairwise import cosine_similarity"
   ]
  },
  {
   "cell_type": "code",
   "execution_count": 14,
   "metadata": {},
   "outputs": [],
   "source": [
    "def similarity(title, sentence):\n",
    "    t = spacy_tokenize(title)\n",
    "    s = spacy_tokenize(sentence)\n",
    "    similar = [w for w in s if w in t]\n",
    "    \n",
    "    score = (len(similar) * 0.1 ) / len(t)\n",
    "    return score"
   ]
  },
  {
   "cell_type": "code",
   "execution_count": 15,
   "metadata": {},
   "outputs": [],
   "source": [
    "doc_length = len(sentences)\n",
    "\n",
    "tf_idf =  [ sum(sent) for sent in dtm.toarray()] \n",
    "cos_sim = [similarity(file['subject'], sent) for sent in sentences]\n",
    "sent_pos = [i/doc_length for i in range(doc_length)]"
   ]
  },
  {
   "cell_type": "markdown",
   "metadata": {},
   "source": [
    "### Ranking score"
   ]
  },
  {
   "cell_type": "code",
   "execution_count": 16,
   "metadata": {
    "scrolled": true
   },
   "outputs": [
    {
     "data": {
      "text/html": [
       "<div>\n",
       "<style scoped>\n",
       "    .dataframe tbody tr th:only-of-type {\n",
       "        vertical-align: middle;\n",
       "    }\n",
       "\n",
       "    .dataframe tbody tr th {\n",
       "        vertical-align: top;\n",
       "    }\n",
       "\n",
       "    .dataframe thead th {\n",
       "        text-align: right;\n",
       "    }\n",
       "</style>\n",
       "<table border=\"1\" class=\"dataframe\">\n",
       "  <thead>\n",
       "    <tr style=\"text-align: right;\">\n",
       "      <th></th>\n",
       "      <th>score</th>\n",
       "    </tr>\n",
       "  </thead>\n",
       "  <tbody>\n",
       "    <tr>\n",
       "      <th>0</th>\n",
       "      <td>0.000000</td>\n",
       "    </tr>\n",
       "    <tr>\n",
       "      <th>1</th>\n",
       "      <td>0.038429</td>\n",
       "    </tr>\n",
       "    <tr>\n",
       "      <th>2</th>\n",
       "      <td>0.028118</td>\n",
       "    </tr>\n",
       "    <tr>\n",
       "      <th>3</th>\n",
       "      <td>0.145287</td>\n",
       "    </tr>\n",
       "    <tr>\n",
       "      <th>4</th>\n",
       "      <td>0.160957</td>\n",
       "    </tr>\n",
       "  </tbody>\n",
       "</table>\n",
       "</div>"
      ],
      "text/plain": [
       "      score\n",
       "0  0.000000\n",
       "1  0.038429\n",
       "2  0.028118\n",
       "3  0.145287\n",
       "4  0.160957"
      ]
     },
     "execution_count": 16,
     "metadata": {},
     "output_type": "execute_result"
    }
   ],
   "source": [
    "rank = pd.DataFrame()\n",
    "rank['score'] = [(tfidf + cos) * pos for tfidf, cos, pos in zip(tf_idf, cos_sim, sent_pos)]\n",
    "rank.head()"
   ]
  },
  {
   "cell_type": "markdown",
   "metadata": {},
   "source": [
    "Indexes of sentences with highest score"
   ]
  },
  {
   "cell_type": "code",
   "execution_count": 17,
   "metadata": {},
   "outputs": [],
   "source": [
    "sum_sentences = rank.sort_values('score', ascending=False)[: num_sentences].index.tolist()\n",
    "list.sort(sum_sentences)"
   ]
  },
  {
   "cell_type": "code",
   "execution_count": 18,
   "metadata": {},
   "outputs": [
    {
     "data": {
      "text/plain": [
       "[146, 150, 159, 160]"
      ]
     },
     "execution_count": 18,
     "metadata": {},
     "output_type": "execute_result"
    }
   ],
   "source": [
    "sum_sentences"
   ]
  },
  {
   "cell_type": "code",
   "execution_count": 19,
   "metadata": {},
   "outputs": [
    {
     "name": "stdout",
     "output_type": "stream",
     "text": [
      "SUBJECT: Guidelines on the Certification of Free Standing Family Planning Clinics\n"
     ]
    }
   ],
   "source": [
    "print(file['subject'])"
   ]
  },
  {
   "cell_type": "code",
   "execution_count": 20,
   "metadata": {},
   "outputs": [
    {
     "name": "stdout",
     "output_type": "stream",
     "text": [
      "Every Free Standing FP Clinics shall ensure that all key staff, pertinent records/ documents, supplies/ equipment in the facilities are made available to the DOH RO FP Program authorized representatives during monitoring visits. Each DOH R0 shall submit a summary of violations on- a semi-annual basis to the WMCHDD and copy furnished the PhilHealths Regional Office stating among others, the name of the health facility, location, its violation and the course of action taken. The management of a Free Standing FP Clinics aggrieved by the decision of the DOH RO may, within ten (10) days after receipt of notice of decision, file a notice of appeal to the Office of the Secretary of Health. Thereupon, the DOH RO shall promptly certify, file a copy of the decision, including all pertinent documents and transcript of hearings on which the decision is based, and forward to the Office of the Secretary for review. \n"
     ]
    }
   ],
   "source": [
    "summary = \"\"\n",
    "for i in sum_sentences:\n",
    "    summary += sentences[i] + \" \"\n",
    "\n",
    "print(summary)"
   ]
  },
  {
   "cell_type": "code",
   "execution_count": 21,
   "metadata": {},
   "outputs": [
    {
     "data": {
      "text/plain": [
       "array([[ 0.38472645]])"
      ]
     },
     "execution_count": 21,
     "metadata": {},
     "output_type": "execute_result"
    }
   ],
   "source": [
    "cosine_similarity(vect.transform([file['body']])[0:1], vect.transform([summary])[0:1])"
   ]
  },
  {
   "cell_type": "markdown",
   "metadata": {},
   "source": [
    "# Using Clustering"
   ]
  },
  {
   "cell_type": "markdown",
   "metadata": {},
   "source": [
    "## Latent Semantic Analysis\n",
    "Dimension reduction for text data. Scikit-learn recommendeded to reduce features to 100 for LSA"
   ]
  },
  {
   "cell_type": "code",
   "execution_count": 22,
   "metadata": {},
   "outputs": [],
   "source": [
    "from sklearn.decomposition import TruncatedSVD\n",
    "from sklearn.preprocessing import Normalizer\n",
    "from sklearn.pipeline import make_pipeline"
   ]
  },
  {
   "cell_type": "code",
   "execution_count": 23,
   "metadata": {},
   "outputs": [],
   "source": [
    "svd = TruncatedSVD(100)\n",
    "normalizer = Normalizer(copy=False)\n",
    "lsa = make_pipeline(svd, normalizer)"
   ]
  },
  {
   "cell_type": "code",
   "execution_count": 24,
   "metadata": {},
   "outputs": [],
   "source": [
    "lsa_dtm = lsa.fit_transform(dtm)"
   ]
  },
  {
   "cell_type": "markdown",
   "metadata": {},
   "source": [
    "## KMeans Clustering"
   ]
  },
  {
   "cell_type": "code",
   "execution_count": 25,
   "metadata": {},
   "outputs": [],
   "source": [
    "from sklearn.cluster import KMeans"
   ]
  },
  {
   "cell_type": "markdown",
   "metadata": {},
   "source": [
    "Cluster similar sentences together"
   ]
  },
  {
   "cell_type": "code",
   "execution_count": 26,
   "metadata": {},
   "outputs": [],
   "source": [
    "cluster = KMeans(n_clusters=num_sentences)"
   ]
  },
  {
   "cell_type": "code",
   "execution_count": 27,
   "metadata": {},
   "outputs": [
    {
     "data": {
      "text/plain": [
       "KMeans(algorithm='auto', copy_x=True, init='k-means++', max_iter=300,\n",
       "    n_clusters=4, n_init=10, n_jobs=1, precompute_distances='auto',\n",
       "    random_state=None, tol=0.0001, verbose=0)"
      ]
     },
     "execution_count": 27,
     "metadata": {},
     "output_type": "execute_result"
    }
   ],
   "source": [
    "cluster.fit(lsa_dtm)"
   ]
  },
  {
   "cell_type": "code",
   "execution_count": 28,
   "metadata": {
    "scrolled": true
   },
   "outputs": [
    {
     "data": {
      "text/plain": [
       "array([3, 3, 2, 3, 3, 3, 3, 3, 2, 3, 2, 3, 0, 3, 2, 3, 3, 1, 0, 3, 1, 0, 3,\n",
       "       3, 2, 3, 2, 2, 3, 2, 0, 3, 1, 0, 2, 0, 3, 3, 0, 3, 1, 3, 0, 2, 2, 3,\n",
       "       3, 3, 2, 3, 2, 3, 2, 3, 0, 3, 2, 3, 3, 2, 3, 0, 0, 2, 2, 3, 2, 2, 2,\n",
       "       3, 3, 2, 3, 2, 3, 3, 2, 3, 2, 2, 2, 2, 0, 1, 3, 3, 3, 1, 0, 0, 0, 0,\n",
       "       1, 0, 0, 0, 1, 3, 2, 2, 1, 0, 0, 0, 1, 0, 0, 0, 0, 0, 0, 0, 0, 0, 2,\n",
       "       0, 0, 2, 0, 0, 1, 0, 2, 0, 2, 2, 0, 0, 3, 0, 0, 0, 2, 2, 3, 2, 2, 1,\n",
       "       3, 0, 0, 2, 3, 0, 0, 1, 3, 0, 2, 0, 0, 2, 0, 3, 1, 3, 2, 0, 2, 3, 0,\n",
       "       0, 0, 2, 2, 0, 0, 2, 0, 0, 0, 2, 2])"
      ]
     },
     "execution_count": 28,
     "metadata": {},
     "output_type": "execute_result"
    }
   ],
   "source": [
    "labels = cluster.predict(lsa_dtm)\n",
    "labels"
   ]
  },
  {
   "cell_type": "markdown",
   "metadata": {},
   "source": [
    "Add cluster labels to the ranking dataframe"
   ]
  },
  {
   "cell_type": "code",
   "execution_count": 29,
   "metadata": {
    "scrolled": false
   },
   "outputs": [
    {
     "data": {
      "text/html": [
       "<div>\n",
       "<style scoped>\n",
       "    .dataframe tbody tr th:only-of-type {\n",
       "        vertical-align: middle;\n",
       "    }\n",
       "\n",
       "    .dataframe tbody tr th {\n",
       "        vertical-align: top;\n",
       "    }\n",
       "\n",
       "    .dataframe thead th {\n",
       "        text-align: right;\n",
       "    }\n",
       "</style>\n",
       "<table border=\"1\" class=\"dataframe\">\n",
       "  <thead>\n",
       "    <tr style=\"text-align: right;\">\n",
       "      <th></th>\n",
       "      <th>score</th>\n",
       "      <th>cluster</th>\n",
       "    </tr>\n",
       "  </thead>\n",
       "  <tbody>\n",
       "    <tr>\n",
       "      <th>0</th>\n",
       "      <td>0.000000</td>\n",
       "      <td>3</td>\n",
       "    </tr>\n",
       "    <tr>\n",
       "      <th>1</th>\n",
       "      <td>0.038429</td>\n",
       "      <td>3</td>\n",
       "    </tr>\n",
       "    <tr>\n",
       "      <th>2</th>\n",
       "      <td>0.028118</td>\n",
       "      <td>2</td>\n",
       "    </tr>\n",
       "    <tr>\n",
       "      <th>3</th>\n",
       "      <td>0.145287</td>\n",
       "      <td>3</td>\n",
       "    </tr>\n",
       "    <tr>\n",
       "      <th>4</th>\n",
       "      <td>0.160957</td>\n",
       "      <td>3</td>\n",
       "    </tr>\n",
       "  </tbody>\n",
       "</table>\n",
       "</div>"
      ],
      "text/plain": [
       "      score  cluster\n",
       "0  0.000000        3\n",
       "1  0.038429        3\n",
       "2  0.028118        2\n",
       "3  0.145287        3\n",
       "4  0.160957        3"
      ]
     },
     "execution_count": 29,
     "metadata": {},
     "output_type": "execute_result"
    }
   ],
   "source": [
    "rank['cluster'] = labels\n",
    "rank.head()"
   ]
  },
  {
   "cell_type": "code",
   "execution_count": 44,
   "metadata": {},
   "outputs": [],
   "source": [
    "import matplotlib.pyplot as plt"
   ]
  },
  {
   "cell_type": "code",
   "execution_count": 47,
   "metadata": {},
   "outputs": [],
   "source": [
    "svd_vis = TruncatedSVD(n_iter=100)\n",
    "normalizer_vis = Normalizer(copy=False)\n",
    "lsa_vis = make_pipeline(svd_vis, normalizer_vis)\n",
    "vis = lsa_vis.fit_transform(dtm)"
   ]
  },
  {
   "cell_type": "code",
   "execution_count": 52,
   "metadata": {},
   "outputs": [
    {
     "data": {
      "text/plain": [
       "<matplotlib.collections.PathCollection at 0x1df8d71fcc0>"
      ]
     },
     "execution_count": 52,
     "metadata": {},
     "output_type": "execute_result"
    },
    {
     "data": {
      "image/png": "[encoded data removed]",
      "text/plain": [
       "<Figure size 432x288 with 1 Axes>"
      ]
     },
     "metadata": {},
     "output_type": "display_data"
    }
   ],
   "source": [
    "plt.scatter(vis[:,0],vis[:,1], c=rank['cluster'])"
   ]
  },
  {
   "cell_type": "code",
   "execution_count": 30,
   "metadata": {
    "scrolled": true
   },
   "outputs": [
    {
     "name": "stdout",
     "output_type": "stream",
     "text": [
      "151) Each DOH R0 shall submit a summary of violations on- a semi-annual basis to the WMCHDD and copy furnished the PhilHealths Regional Office stating among others, the name of the health facility, location, its violation and the course of action taken.\n",
      "161) Thereupon, the DOH RO shall promptly certify, file a copy of the decision, including all pertinent documents and transcript of hearings on which the decision is based, and forward to the Office of the Secretary for review.\n",
      "144) The DOH R0 FP program shall from time to time conduct monitoring inspections during office hours using the Checklist based on this Order and other FP regulations such as that on informed choice and voluntarism.\n",
      "169) invalid by any court of law or competent authority, those provisions not affected by such declaration shall remain valid and in force.\n",
      "90) All documents defined in this Order such as application forms, proof of ownership, government registrations, reports, notifications of permits and licensesshall be secured and transmitted in the form of electronic documents with electronic signatures shall have the legal effect, validity or enforceability as any other document or legal writing as mandated by RA 8792 or the Electronic Commerce Act of 2000.\n",
      "140) Before the three-year lapse, the facility shall reapply six (6) months prior to expiration of validity and follow the same procedures described above.\n",
      "145) The DOH RO may delegate this function to Provincial, City or Municipal Health Offices through written agreements.\n",
      "110) SEC)/ Cooperative Development Authority (C DA)/ or the Department of Trade and Industry (DTI), including the required organizational articles and bylaws  b)\n",
      "120) A DOH RO Certifying Team of at least two persons from the FP program shall visit the facility during office hours on the scheduled date.\n",
      "122) The Certifying Team shall validate the information in the checklist, conduct staff interviews and examination of original documents.\n",
      "109) Proof of Ownership of the facility as stipulated in any one of the following:   - Private: appropriate registration with an authorized government agency such as the Securities and Exchange Commission (\n",
      "113) The applicant shall make the necessary revisions on the documents and shall submit the revised documents to the DOH R0 for another review.\n",
      "162) The decision of the Secretary of Health shall be final and executory.\n",
      "103) The following documents must be accomplished and submitted to the DOH RO FP Program where the facility IS located before a Certification visit can be scheduled:   i.\n",
      "117) Upon the DOH ROs approval of the application, a Certification visit shall be scheduled within 30 days.\n",
      "96) The Checklist shall be made readily available for download using the DOHs website and through template copies distributed to all DOH ROS FP Program.\n",
      "132) A noncompliant facility may reapply for a Certification Visit after addressing its deficiencies.\n",
      "91) All \"electronic documents and signatures may be subjected to verification later as to their authenticity, during certification and monitoring visits by the authorized personnel of the DOH.\n",
      "141) The second and subsequent Certification shall be valid for three years.\n",
      "112) If disapproved, the DOH RO shall return the documents together with their findings and recommendations to the applicant.\n",
      "111) The DOH R0 shall approve or disapprove the scheduling of a Certification Visit.\n",
      "92) The use of fake documents or signatures, electronic or otherwise, may result in the suspension or revocation of the certification.\n",
      "107) The form shall be developed and issued by the DOH  WMCHDD.\n",
      "163) X. REPEALING CLAUSE\n",
      "153) INVESTIGATION OF CHARGES AND COMPLAINTS   A.\n",
      "127) This decision shall be final and executory.\n",
      "114) The applicant shall be entitled to two revisions.\n",
      "106) Duly accomplished application form.\n",
      "89) PROCEDURAL GUIDELINES   A. Documentation Process   1.\n",
      "36) Electronic Signature  refers to any distinctive mark, characteristic and/or sound in electronic form, representing the identity of a person and attached to or- logically associated with the electronic data message or electronic document or any methodology or procedures employed or adopted by a person and executed or adopted by such person with the intention of authenticating or approving an electronic data message or electronic document.\n",
      "34) Electronic Document - refers to information or the representation of information, data, figures, symbols or other modes of written expression, described or however represented, by which a right is established or an obligation extinguished, or by which a fact may be prove and affirmed, which is receive, recorded, transmitted, stored, processed, retrieved or produced electronically.\n",
      "167) SEPARABILITY CLAUSE\n",
      "83) Followup discontinuing FP clients   14.\n",
      "104) Duly accomplished Checklist.\n",
      "130) (See Annex C)\n",
      "119) Certification Visit   a)\n",
      "102) Application for Certification   a)\n",
      "171) EFFECTIVITY\n",
      "170) XII.\n",
      "166) XI.\n",
      "158) IX.\n",
      "150) d)\n",
      "148) c)\n",
      "131) e)\n",
      "128) d)\n",
      "124) c)\n",
      "116) c)\n",
      "39) V. GENERAL GUIDELINES   1.\n",
      "63) Interpretation Clause).\n",
      "108) iii.\n",
      "62) (Sec. 27.\n",
      "95) Checklist   a)\n",
      "94) 1.\n",
      "31) DEFINITION OF TERMS   1.\n",
      "55) 8.\n",
      "43) resident.\n",
      "19) OBJECTIVES   A. General\n",
      "22) 1.\n",
      "13) (Sec. 19.\n"
     ]
    }
   ],
   "source": [
    "idx_k = rank[rank.cluster == 0].sort_values('score', ascending=False).index\n",
    "for i in idx_k:\n",
    "    print(str(i+1) + \") \" + sentences[i])"
   ]
  },
  {
   "cell_type": "markdown",
   "metadata": {},
   "source": [
    "## Choosing Salient Sentences\n",
    "Get sentence with the highest score per cluster"
   ]
  },
  {
   "cell_type": "code",
   "execution_count": 40,
   "metadata": {
    "scrolled": false
   },
   "outputs": [
    {
     "name": "stdout",
     "output_type": "stream",
     "text": [
      "[87, 135, 146, 150]\n",
      "Free Standing FP Clinics should strive to keep the amount of personnel and equipment and size of facilities commensurate to the number of FF clients and consultations.-   C. Certificate of Compliance for a Free Standing FP Clinics (Annex B)   VII. Registration and Issuance   a) Upon receipt of the summary report from the DOH R0 FP program, the WMCHDD shall register the various facilities (whether compliant or non-compliant) in a central registry of all Free Standing FP Clinics facilities. Every Free Standing FP Clinics shall ensure that all key staff, pertinent records/ documents, supplies/ equipment in the facilities are made available to the DOH RO FP Program authorized representatives during monitoring visits. Each DOH R0 shall submit a summary of violations on- a semi-annual basis to the WMCHDD and copy furnished the PhilHealths Regional Office stating among others, the name of the health facility, location, its violation and the course of action taken. \n"
     ]
    }
   ],
   "source": [
    "clustered_summary = \"\"\n",
    "sent_idxs = [rank[rank.cluster == i].sort_values('score', ascending=False).head(1).index[0] for i in range(num_sentences)]\n",
    "list.sort(sent_idxs)\n",
    "\n",
    "for i in range(num_sentences):\n",
    "    clustered_summary += sentences[sent_idxs[i]] + \" \"\n",
    "#     clustered_summary += str(i+1) + \") \" + sentences[sent_idxs[i]]\n",
    "#     clustered_summary += \"\\n\"\n",
    "\n",
    "print(sent_idxs)\n",
    "print(clustered_summary)"
   ]
  },
  {
   "cell_type": "code",
   "execution_count": 32,
   "metadata": {},
   "outputs": [
    {
     "data": {
      "text/plain": [
       "array([[ 0.45837377]])"
      ]
     },
     "execution_count": 32,
     "metadata": {},
     "output_type": "execute_result"
    }
   ],
   "source": [
    "cosine_similarity(vect.transform([file['body']])[0:1], vect.transform([clustered_summary])[0:1])"
   ]
  },
  {
   "cell_type": "markdown",
   "metadata": {},
   "source": [
    "## Hidden Markov Models"
   ]
  },
  {
   "cell_type": "code",
   "execution_count": 33,
   "metadata": {},
   "outputs": [],
   "source": [
    "from hmmlearn.hmm import GaussianHMM"
   ]
  },
  {
   "cell_type": "code",
   "execution_count": 34,
   "metadata": {},
   "outputs": [],
   "source": [
    "hmm_model = GaussianHMM(n_components=num_sentences, covariance_type='spherical',n_iter=100, random_state=0)"
   ]
  },
  {
   "cell_type": "code",
   "execution_count": 35,
   "metadata": {},
   "outputs": [
    {
     "name": "stderr",
     "output_type": "stream",
     "text": [
      "C:\\Users\\Tomy\\Anaconda3\\lib\\site-packages\\sklearn\\utils\\deprecation.py:77: DeprecationWarning: Function distribute_covar_matrix_to_match_covariance_type is deprecated; The function distribute_covar_matrix_to_match_covariance_typeis deprecated in 0.18 and will be removed in 0.20.\n",
      "  warnings.warn(msg, category=DeprecationWarning)\n"
     ]
    },
    {
     "data": {
      "text/plain": [
       "GaussianHMM(algorithm='viterbi', covariance_type='spherical',\n",
       "      covars_prior=0.01, covars_weight=1, init_params='stmc',\n",
       "      means_prior=0, means_weight=0, min_covar=0.001, n_components=4,\n",
       "      n_iter=100, params='stmc', random_state=0, startprob_prior=1.0,\n",
       "      tol=0.01, transmat_prior=1.0, verbose=False)"
      ]
     },
     "execution_count": 35,
     "metadata": {},
     "output_type": "execute_result"
    }
   ],
   "source": [
    "hmm_model.fit(lsa_dtm)"
   ]
  },
  {
   "cell_type": "code",
   "execution_count": 36,
   "metadata": {},
   "outputs": [
    {
     "data": {
      "text/plain": [
       "array([2, 2, 2, 2, 2, 2, 2, 2, 2, 2, 2, 2, 2, 2, 2, 2, 2, 2, 2, 2, 1, 0, 2,\n",
       "       2, 2, 2, 2, 2, 3, 2, 0, 2, 2, 2, 0, 2, 0, 2, 2, 3, 2, 3, 2, 2, 0, 3,\n",
       "       0, 3, 2, 3, 2, 3, 2, 3, 2, 3, 2, 3, 3, 2, 2, 2, 2, 2, 2, 2, 2, 2, 2,\n",
       "       2, 2, 2, 2, 2, 2, 2, 2, 2, 2, 2, 2, 2, 2, 3, 3, 3, 2, 3, 2, 2, 2, 2,\n",
       "       3, 0, 2, 2, 1, 0, 2, 2, 2, 2, 2, 2, 2, 2, 2, 2, 2, 2, 2, 2, 2, 2, 2,\n",
       "       1, 0, 0, 2, 2, 1, 0, 0, 1, 0, 0, 2, 2, 3, 1, 0, 2, 0, 0, 0, 3, 2, 1,\n",
       "       3, 2, 2, 2, 2, 2, 2, 1, 3, 1, 0, 2, 2, 2, 2, 3, 1, 3, 2, 2, 2, 3, 2,\n",
       "       2, 2, 2, 2, 2, 2, 2, 2, 2, 2, 2, 2])"
      ]
     },
     "execution_count": 36,
     "metadata": {},
     "output_type": "execute_result"
    }
   ],
   "source": [
    "hmm_cluster = hmm_model.predict(lsa_dtm)\n",
    "hmm_cluster"
   ]
  },
  {
   "cell_type": "code",
   "execution_count": 37,
   "metadata": {},
   "outputs": [],
   "source": [
    "rank['hmm_cluster'] = hmm_cluster"
   ]
  },
  {
   "cell_type": "code",
   "execution_count": 38,
   "metadata": {},
   "outputs": [
    {
     "name": "stdout",
     "output_type": "stream",
     "text": [
      "134) If a facility is rated non-compliant on three consecutive occasions, the waiting period shall be increased to not less than 60 days and not more than 90 days.\n",
      "149) A Notice of Suspension or Revocation shall be issued within three (3) days for non- compliance with these rules and regulations.\n",
      "133) A waiting period of not less than 30 days and not more than 45 days shall be enforced to provide reasonable time on improvements for compliance.\n",
      "125) If the facility is rated for further validation, the Certifying Team shall return within 5 days with a third person to reexamine problem areas.\n",
      "123) At the end of the one-day visit, the team shall rate the facility as l) compliant; 2) noncompliant; or 3) for further validation.\n",
      "122) The Certifying Team shall validate the information in the checklist, conduct staff interviews and examination of original documents.\n",
      "126) The three-person Certifying Team shall then decide to rate the facility as either compliant or non-compliant.\n",
      "117) Upon the DOH ROs approval of the application, a Certification visit shall be scheduled within 30 days.\n",
      "98) The facility manager together with his/her staff shall accomplish the Checklist to get an initial measure of compliance with set standards.\n",
      "135) 4.\n",
      "131) e)\n",
      "118) 3.\n",
      "94) 1.\n",
      "31) DEFINITION OF TERMS   1.\n",
      "47) 4.\n",
      "45) 3.\n",
      "37) 4.\n",
      "35) 3.\n",
      "22) 1.\n"
     ]
    }
   ],
   "source": [
    "idx_0 = rank[rank.hmm_cluster == 0].sort_values('score', ascending=False).index\n",
    "for i in idx_0:\n",
    "    print(str(i+1) + \") \" + sentences[i])"
   ]
  },
  {
   "cell_type": "markdown",
   "metadata": {},
   "source": [
    "## Choosing Salient Sentences\n",
    "Get sentence with the highest score per cluster"
   ]
  },
  {
   "cell_type": "code",
   "execution_count": 41,
   "metadata": {},
   "outputs": [
    {
     "name": "stdout",
     "output_type": "stream",
     "text": [
      "[133, 129, 150, 146]\n",
      "If a facility is rated non-compliant on three consecutive occasions, the waiting period shall be increased to not less than 60 days and not more than 90 days. (See Annex C) Each DOH R0 shall submit a summary of violations on- a semi-annual basis to the WMCHDD and copy furnished the PhilHealths Regional Office stating among others, the name of the health facility, location, its violation and the course of action taken. Every Free Standing FP Clinics shall ensure that all key staff, pertinent records/ documents, supplies/ equipment in the facilities are made available to the DOH RO FP Program authorized representatives during monitoring visits. \n"
     ]
    }
   ],
   "source": [
    "hmm_clustered_summary = \"\"\n",
    "hmm_sent_idxs = [rank[rank.hmm_cluster == i].sort_values('score', ascending=False).head(1).index[0] for i in range(num_sentences)]\n",
    "# list.sort(hmm_sent_idxs)\n",
    "\n",
    "for i in range(num_sentences):\n",
    "    hmm_clustered_summary += sentences[hmm_sent_idxs[i]] + \" \"\n",
    "#     hmm_clustered_summary += str(i+1) + \") \" + sentences[hmm_sent_idxs[i]]\n",
    "#     hmm_clustered_summary += \"\\n\"\n",
    "\n",
    "print(hmm_sent_idxs)\n",
    "print(hmm_clustered_summary)"
   ]
  },
  {
   "cell_type": "code",
   "execution_count": null,
   "metadata": {},
   "outputs": [],
   "source": []
  }
 ],
 "metadata": {
  "kernelspec": {
   "display_name": "Python 3",
   "language": "python",
   "name": "python3"
  },
  "language_info": {
   "codemirror_mode": {
    "name": "ipython",
    "version": 3
   },
   "file_extension": ".py",
   "mimetype": "text/x-python",
   "name": "python",
   "nbconvert_exporter": "python",
   "pygments_lexer": "ipython3",
   "version": "3.7.4"
  }
 },
 "nbformat": 4,
 "nbformat_minor": 2
}
